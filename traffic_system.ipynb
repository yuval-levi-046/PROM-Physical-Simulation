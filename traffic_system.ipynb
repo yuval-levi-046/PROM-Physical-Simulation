{
 "cells": [
  {
   "cell_type": "code",
   "execution_count": null,
   "metadata": {},
   "outputs": [],
   "source": [
    "class Car():\n",
    "  def __init__(self, pos, velocity, next_car, max_speed):\n",
    "    self.next_car = next_car\n",
    "    self.pos = pos\n",
    "    self.velocity = velocity\n",
    "    self.max_speed = max_speed\n",
    "\n",
    "  def accelerate(self, acc, dt):\n",
    "    self.velocity += acc * dt\n",
    "  \n",
    "  def decelerate(self, acc, dt):\n",
    "    self.velocity -= acc * dt\n",
    "    "
   ]
  },
  {
   "cell_type": "code",
   "execution_count": 16,
   "metadata": {},
   "outputs": [],
   "source": [
    "class Lane():\n",
    "\n",
    "  def init(self, num_cars, max_speed):\n",
    "    self.num_cars = num_cars\n",
    "    self.max_speed = max_speed\n",
    "    self.open_pos = 0\n",
    "    self.cars = []\n",
    "\n",
    "    \n",
    "  def add_car(self, car):\n",
    "    self.num_cars += 1\n",
    "    self.cars[-1].next_car = Car(car)\n",
    "    self.cars.append(car)\n",
    "    self.open_pos += 1\n",
    "    \n",
    "  def remove_car(self):\n",
    "    if self.num_cars > 0:\n",
    "      self.cars.pop()\n",
    "      self.num_cars -= 1\n",
    "\n"
   ]
  },
  {
   "cell_type": "code",
   "execution_count": null,
   "metadata": {},
   "outputs": [
    {
     "ename": "_IncompleteInputError",
     "evalue": "incomplete input (2574988392.py, line 22)",
     "output_type": "error",
     "traceback": [
      "  \u001b[36mCell\u001b[39m\u001b[36m \u001b[39m\u001b[32mIn[14]\u001b[39m\u001b[32m, line 22\u001b[39m\n\u001b[31m    \u001b[39m\n    ^\n\u001b[31m_IncompleteInputError\u001b[39m\u001b[31m:\u001b[39m incomplete input\n"
     ]
    }
   ],
   "source": [
    "class System():\n",
    "    def __init__(self, num_cars, max_speed, threshold, dt = 0.01, acc = 1, final_time = 10):\n",
    "        self.lane = Lane(num_cars, max_speed)\n",
    "        self.dt = dt\n",
    "        self.acc = acc\n",
    "        self.final_time = final_time\n",
    "        \n",
    "    \n",
    "    def accelerate(self, i : int):\n",
    "        if i >= self.lane.num_cars or i < 0: raise(\"No such car\")\n",
    "        self.lane.cars[i].accelerate()\n",
    "\n",
    "    def decelerate(self, i : int):\n",
    "        if i >= self.lane.num_cars or i < 0: raise(\"No such car\")\n",
    "        self.lane.cars[i].decelerate()\n",
    "\n",
    "    def move_car(self, i : int):\n",
    "        if i >= self.lane.num_cars or i < 0: raise(\"No such car\")\n",
    "        if self.lane.cars[i].next_car is None:\n",
    "\n",
    "\n",
    "    def simulate(self):\n",
    "        for _ in range(int(self.final_time / self.dt)):\n",
    "            for i in range(self.lane.num_cars):\n",
    "                if self.lane.cars[i].next_car is None:\n",
    "                    pass\n",
    "                    \n",
    "                \n",
    "        \n"
   ]
  }
 ],
 "metadata": {
  "kernelspec": {
   "display_name": "Python 3",
   "language": "python",
   "name": "python3"
  },
  "language_info": {
   "codemirror_mode": {
    "name": "ipython",
    "version": 3
   },
   "file_extension": ".py",
   "mimetype": "text/x-python",
   "name": "python",
   "nbconvert_exporter": "python",
   "pygments_lexer": "ipython3",
   "version": "3.13.2"
  }
 },
 "nbformat": 4,
 "nbformat_minor": 2
}
