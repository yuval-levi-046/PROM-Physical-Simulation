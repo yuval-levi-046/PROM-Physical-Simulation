{
 "cells": [
  {
   "cell_type": "code",
   "execution_count": 1,
   "metadata": {},
   "outputs": [],
   "source": [
    "# Global Variables\n",
    "dt = 0.01\n",
    "ACC_RATE = 1 * dt"
   ]
  },
  {
   "cell_type": "code",
   "execution_count": 2,
   "metadata": {},
   "outputs": [],
   "source": [
    "class car():\n",
    "  \n",
    "  def __init__(self, state, next_car):\n",
    "    self.next_car = next_car\n",
    "    self.state = state # Vector of (position, velocity)\n",
    "\n",
    "  def set_max_speed(self, max_speed):\n",
    "    self.max_speed = max_speed\n",
    "\n",
    "  def accelerate(self):\n",
    "    self.state[1] += ACC_RATE \n",
    "\n",
    "  def decelerate(self):\n",
    "    self.state[1] -= ACC_RATE\n",
    "\n",
    "  def move(self):\n",
    "    if self.state[1] < self.max_speed:\n",
    "      self.accelerate()\n",
    "    if self.state[1] > self.max_speed:\n",
    "      self.decelerate()\n",
    "\n",
    "    self.state[0] += self.state[1]\n",
    "\n",
    "\n"
   ]
  },
  {
   "cell_type": "code",
   "execution_count": 3,
   "metadata": {},
   "outputs": [],
   "source": [
    "class lane():\n",
    "  num_cars = 0\n",
    "  max_speed = 0\n",
    "  cars = []\n",
    "  def init(self, num_cars, max_speed):\n",
    "    self.num_cars = num_cars\n",
    "    self.max_speed = max_speed\n",
    "    \n",
    "  def add_car(self, car):\n",
    "    self.num_cars += 1\n",
    "    self.cars[-1].next_car = car\n",
    "    self.cars.append(car)\n",
    "    \n",
    "  def remove_car(self):\n",
    "    self.cars.pop()"
   ]
  }
 ],
 "metadata": {
  "kernelspec": {
   "display_name": "base",
   "language": "python",
   "name": "python3"
  },
  "language_info": {
   "codemirror_mode": {
    "name": "ipython",
    "version": 3
   },
   "file_extension": ".py",
   "mimetype": "text/x-python",
   "name": "python",
   "nbconvert_exporter": "python",
   "pygments_lexer": "ipython3",
   "version": "3.12.4"
  }
 },
 "nbformat": 4,
 "nbformat_minor": 2
}
