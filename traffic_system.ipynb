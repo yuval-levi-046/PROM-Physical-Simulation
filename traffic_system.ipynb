{
 "cells": [
  {
   "cell_type": "code",
   "execution_count": null,
   "metadata": {},
   "outputs": [],
   "source": [
    "# Global Variables\n",
    "ACC = 1"
   ]
  },
  {
   "cell_type": "code",
   "execution_count": null,
   "metadata": {},
   "outputs": [],
   "source": [
    "class Car():\n",
    "  def __init__(self, pos, velocity, next_car, max_speed):\n",
    "    self.next_car = next_car\n",
    "    self.pos = pos\n",
    "    self.velocity = velocity\n",
    "    self.acc = ACC\n",
    "    self.max_speed = max_speed\n",
    "\n",
    "  def accelerate(self, dt):\n",
    "    self.velocity += self.acc * dt\n",
    "  \n",
    "  def decelerate(self, dt):\n",
    "    self.velocity -= self.acc * dt\n",
    "\n",
    "  def update(self, dt):\n",
    "    if self.velocity < self.max_speed:\n",
    "      self.accelerate(dt)\n",
    "    else:\n",
    "      self.decelerate(dt)\n",
    "    \n",
    "    self.pos += self.velocity * dt\n",
    "    "
   ]
  },
  {
   "cell_type": "code",
   "execution_count": null,
   "metadata": {},
   "outputs": [],
   "source": [
    "class Lane():\n",
    "\n",
    "  def init(self, num_cars, max_speed):\n",
    "    self.num_cars = num_cars\n",
    "    self.max_speed = max_speed\n",
    "    self.open_pos = 0\n",
    "    self.cars = []\n",
    "\n",
    "    \n",
    "  def add_car(self, car):\n",
    "    self.num_cars += 1\n",
    "    self.cars[-1].next_car = Car(car)\n",
    "    self.cars.append(car)\n",
    "    self.open_pos += 1\n",
    "    \n",
    "  def remove_car(self):\n",
    "    if self.num_cars > 0:\n",
    "      self.cars.pop()\n",
    "      self.num_cars -= 1\n",
    "\n",
    "  def update(self, dt):\n",
    "    for car in self.cars:\n",
    "      car.update(dt)\n",
    "\n",
    "    \n",
    "  def get_cars(self):\n",
    "    return self.cars\n",
    "\n"
   ]
  },
  {
   "cell_type": "code",
   "execution_count": null,
   "metadata": {},
   "outputs": [
    {
     "ename": "IndentationError",
     "evalue": "expected an indented block after 'if' statement on line 19 (1499.py, line 22)",
     "output_type": "error",
     "traceback": [
      "  \u001b[36mCell\u001b[39m\u001b[36m \u001b[39m\u001b[32mIn[17]\u001b[39m\u001b[32m, line 22\u001b[39m\n\u001b[31m    \u001b[39m\u001b[31mdef simulate(self):\u001b[39m\n    ^\n\u001b[31mIndentationError\u001b[39m\u001b[31m:\u001b[39m expected an indented block after 'if' statement on line 19\n"
     ]
    }
   ],
   "source": [
    "class System():\n",
    "    def __init__(self, threshold, dt = 0.01, final_time = 10):\n",
    "        self.lanes = []\n",
    "        self.dt = dt\n",
    "        self.final_time = final_time\n",
    "        \n",
    "    def add_lane(self, lane):\n",
    "        self.lanes.append(lane)\n",
    "                \n",
    "    def simulate(self):\n",
    "        for lane in self.lanes:\n",
    "            lane.update(self.dt)\n",
    "\n",
    "\n",
    "\n",
    "        \n"
   ]
  }
 ],
 "metadata": {
  "kernelspec": {
   "display_name": "Python 3",
   "language": "python",
   "name": "python3"
  },
  "language_info": {
   "codemirror_mode": {
    "name": "ipython",
    "version": 3
   },
   "file_extension": ".py",
   "mimetype": "text/x-python",
   "name": "python",
   "nbconvert_exporter": "python",
   "pygments_lexer": "ipython3",
   "version": "3.13.2"
  }
 },
 "nbformat": 4,
 "nbformat_minor": 2
}
