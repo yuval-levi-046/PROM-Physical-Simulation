{
 "cells": [
  {
   "cell_type": "code",
   "execution_count": 7,
   "metadata": {},
   "outputs": [],
   "source": [
    "%load_ext autoreload\n",
    "%autoreload 2"
   ]
  },
  {
   "cell_type": "code",
   "execution_count": null,
   "metadata": {},
   "outputs": [],
   "source": [
    "import sys\n",
    "import numpy as np\n",
    "import matplotlib.pyplot as plt\n",
    "import seaborn as sns\n",
    "sys.path.append(\"..\")  # if simulator.ipynb is in /notebooks/\n",
    "\n",
    "from simulation.core import System\n",
    "from simulation.controller import TrafficController\n",
    "from simulation.data_logger import DataLogger\n",
    "from simulation.core import Road, Obstacle\n",
    "from simulation.spawners import timed_spawner, density_random_lane_spawner\n",
    "from helper import plot_average_velocity_per_lane, plot_lane_occupancy, compute_avg_velocity_over_time, plot_lane_traffic_stats\n"
   ]
  },
  {
   "cell_type": "code",
   "execution_count": 6,
   "metadata": {},
   "outputs": [],
   "source": [
    "def get_last_frame_average_velocity(df):\n",
    "    if df.empty:\n",
    "        print(\"No data logged.\")\n",
    "        return None\n",
    "    last_time = df[\"time\"].max()\n",
    "    last_frame = df[df[\"time\"] == last_time]\n",
    "    return last_frame[\"velocity\"].mean()"
   ]
  },
  {
   "cell_type": "code",
   "execution_count": null,
   "metadata": {},
   "outputs": [],
   "source": [
    "dt = 0.1\n",
    "sim_time = 400\n",
    "\n",
    "num_cars = 100\n",
    "starting_speed = 60\n",
    "\n",
    "road_length = 2000\n",
    "max_speed = 60\n",
    "\n",
    "num_lanes = 5\n",
    "\n",
    "def test_loop(n, rate, starting_value, should_print = False):\n",
    "\n",
    "    dataframes = []\n",
    "\n",
    "    for _ in range(n):\n",
    "\n",
    "        system = System(dt=dt, final_time=sim_time)\n",
    "\n",
    "        start_pos = (0, 300)\n",
    "        end_pos = (road_length, 300)\n",
    "        road = Road(num_lanes, max_speed, start_pos, end_pos)\n",
    "\n",
    "        system.add_road(road)\n",
    "        logger = DataLogger(tag=\"basic_one_road_test\")\n",
    "        controller = TrafficController(system, logger=logger)\n",
    "\n",
    "        controller.add_spawn_rule(density_random_lane_spawner(starting_value, 0, num_cars, speed=starting_speed))\n",
    "\n",
    "        system.block_lane_from_offsets(0, 0, 500, 700)\n",
    "        system.block_lane_from_offsets(0, 4, 350, 450)\n",
    "\n",
    "\n",
    "        for _ in range(int(sim_time / dt)):\n",
    "            end = controller.control(dt, should_print=should_print)\n",
    "            system.update(logger)\n",
    "    \n",
    "            if end:\n",
    "                break\n",
    "\n",
    "        df = logger.to_dataframe()\n",
    "        dataframes.append(df)\n",
    "        print(\"Logging to dataframe!\")\n",
    "        starting_value += rate\n",
    "\n",
    "\n",
    "    return dataframes\n"
   ]
  },
  {
   "cell_type": "code",
   "execution_count": null,
   "metadata": {},
   "outputs": [],
   "source": [
    "times = 15\n",
    "rate = 0.2\n",
    "starting_value = 0.1\n",
    "\n",
    "dataframes = test_loop(times, rate, starting_value)"
   ]
  },
  {
   "cell_type": "code",
   "execution_count": null,
   "metadata": {},
   "outputs": [],
   "source": [
    "for df in dataframes:\n",
    "    compute_avg_velocity_over_time(df, 100, True)\n",
    "    plot_lane_occupancy(df)\n",
    "    plot_average_velocity_per_lane(df)\n",
    "    plot_lane_traffic_stats(df)\n",
    "    "
   ]
  }
 ],
 "metadata": {
  "kernelspec": {
   "display_name": "base",
   "language": "python",
   "name": "python3"
  },
  "language_info": {
   "codemirror_mode": {
    "name": "ipython",
    "version": 3
   },
   "file_extension": ".py",
   "mimetype": "text/x-python",
   "name": "python",
   "nbconvert_exporter": "python",
   "pygments_lexer": "ipython3",
   "version": "3.12.4"
  }
 },
 "nbformat": 4,
 "nbformat_minor": 2
}
